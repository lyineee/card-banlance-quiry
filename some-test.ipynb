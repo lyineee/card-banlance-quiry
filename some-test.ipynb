{
 "cells": [
  {
   "cell_type": "markdown",
   "metadata": {},
   "source": [
    "# Test Cookie"
   ]
  },
  {
   "cell_type": "code",
   "execution_count": 1,
   "metadata": {},
   "outputs": [],
   "source": [
    "import requests as rq\n",
    "import tensorflow.keras.models\n",
    "import json\n",
    "import numpy as np\n",
    "import cv2\n",
    "import os"
   ]
  },
  {
   "cell_type": "markdown",
   "metadata": {},
   "source": [
    "## get asp.net_sessionid"
   ]
  },
  {
   "cell_type": "code",
   "execution_count": 2,
   "metadata": {},
   "outputs": [],
   "source": [
    "resp=rq.get('http://ecardfw.upc.edu.cn:20086/')"
   ]
  },
  {
   "cell_type": "code",
   "execution_count": 3,
   "metadata": {},
   "outputs": [],
   "source": [
    "cookies={'ASP.NET_SessionId':resp.cookies['ASP.NET_SessionId']}"
   ]
  },
  {
   "cell_type": "code",
   "execution_count": 4,
   "metadata": {},
   "outputs": [],
   "source": [
    "import time\n",
    "validate_code_time=str(time.time()).replace('.','')\n",
    "validate_code_url='http://ecardfw.upc.edu.cn:20086/Login/GetValidateCode?time='.format(validate_code_time)\n",
    "validate_code_resp=rq.get(validate_code_url,cookies=cookies)"
   ]
  },
  {
   "cell_type": "code",
   "execution_count": 5,
   "metadata": {},
   "outputs": [],
   "source": [
    "with open('./validate_code_tmp.jpg','wb') as f:\n",
    "    f.write(validate_code_resp.content)\n",
    "    f.flush()\n",
    "    validate_img=cv2.imread(f.name)\n",
    "os.remove('./validate_code_tmp.jpg')"
   ]
  },
  {
   "cell_type": "markdown",
   "metadata": {},
   "source": [
    "### all"
   ]
  },
  {
   "cell_type": "code",
   "execution_count": 34,
   "metadata": {},
   "outputs": [],
   "source": [
    "resp=rq.get('http://ecardfw.upc.edu.cn:20086/')\n",
    "cookies={'ASP.NET_SessionId':resp.cookies['ASP.NET_SessionId']}\n",
    "import time\n",
    "validate_code_time=str(time.time()).replace('.','')\n",
    "validate_code_url='http://ecardfw.upc.edu.cn:20086/Login/GetValidateCode?time='.format(validate_code_time)\n",
    "validate_code_resp=rq.get(validate_code_url,cookies=cookies)\n",
    "with open('./validate_code_tmp.jpg','wb') as f:\n",
    "    f.write(validate_code_resp.content)\n",
    "    f.flush()\n",
    "    validate_img=cv2.imread(f.name)\n",
    "os.remove('./validate_code_tmp.jpg')"
   ]
  },
  {
   "cell_type": "markdown",
   "metadata": {},
   "source": [
    "## calculate the calidate code"
   ]
  },
  {
   "cell_type": "code",
   "execution_count": 35,
   "metadata": {},
   "outputs": [],
   "source": [
    "headers={\n",
    "    'Host': 'ecardfw.upc.edu.cn:20086',\n",
    "    'Proxy-Connection': 'keep-alive',\n",
    "    'Content-Length': '72',\n",
    "    'Accept': 'application/json, text/javascript, */*; q=0.01',\n",
    "    'X-Requested-With': 'XMLHttpRequest',\n",
    "    'User-Agent': 'Mozilla/5.0 (Windows NT 10.0; Win64; x64) AppleWebKit/537.36 (KHTML, like Gecko) Chrome/79.0.3945.130 Safari/537.36',\n",
    "    'Content-Type': 'application/x-www-form-urlencoded; charset=UTF-8',\n",
    "    'Origin': 'http://ecardfw.upc.edu.cn:20086',\n",
    "    'Referer': 'http://ecardfw.upc.edu.cn:20086/',\n",
    "    'Accept-Encoding': 'gzip, deflate',\n",
    "    'Accept-Language': 'zh-CN,zh;q=0.9,zh-TW;q=0.8,en-US;q=0.7,en;q=0.6,fi;q=0.5',\n",
    "}"
   ]
  },
  {
   "cell_type": "code",
   "execution_count": 6,
   "metadata": {},
   "outputs": [],
   "source": [
    "models=tensorflow.keras.models.load_model('./result.h5')"
   ]
  },
  {
   "cell_type": "code",
   "execution_count": 36,
   "metadata": {},
   "outputs": [
    {
     "name": "stdout",
     "output_type": "stream",
     "text": [
      "18682\n"
     ]
    }
   ],
   "source": [
    "def decode(y):\n",
    "    y = np.argmax(np.array(y), axis=2)[:,0]\n",
    "    return ''.join([str(x) for x in y])\n",
    "input_width=109\n",
    "input_height=41\n",
    "validate_img=cv2.resize(validate_img,(input_width,input_height)).reshape((1,input_height,input_width,3))\n",
    "pre=models.predict(validate_img/255)\n",
    "validate_code=decode(pre)\n",
    "print(validate_code)"
   ]
  },
  {
   "cell_type": "code",
   "execution_count": 37,
   "metadata": {},
   "outputs": [],
   "source": [
    "post_data={'sno':'1805010118','pwd':'MDUxNTEw','ValiCode':validate_code,'remember':'1','uclass':'1','json':'true'}\n",
    "login_resp=rq.post('http://ecardfw.upc.edu.cn:20086/Login/LoginBySnoQuery',data=post_data,cookies=cookies,headers=headers)"
   ]
  },
  {
   "cell_type": "code",
   "execution_count": 58,
   "metadata": {},
   "outputs": [
    {
     "data": {
      "text/plain": [
       "'MDUxNTEw'"
      ]
     },
     "execution_count": 58,
     "metadata": {},
     "output_type": "execute_result"
    }
   ],
   "source": [
    "import base64\n",
    "s='051510'\n",
    "base64.b64encode(s.encode('utf-8')).decode('ascii')"
   ]
  },
  {
   "cell_type": "code",
   "execution_count": 76,
   "metadata": {},
   "outputs": [
    {
     "data": {
      "text/plain": [
       "False"
      ]
     },
     "execution_count": 76,
     "metadata": {},
     "output_type": "execute_result"
    }
   ],
   "source": [
    "a=login_resp.content\n",
    "a=json.loads(a)\n",
    "a['IsSucceed'] == '1'"
   ]
  },
  {
   "cell_type": "code",
   "execution_count": 86,
   "metadata": {},
   "outputs": [
    {
     "data": {
      "text/plain": [
       "'captcha_error'"
      ]
     },
     "execution_count": 86,
     "metadata": {},
     "output_type": "execute_result"
    }
   ],
   "source": [
    "a=Exception('login failed','captcha_error')\n",
    "a.args[1]"
   ]
  },
  {
   "source": [
    "import requests as rq \n",
    "import base64\n",
    "import cv2.cv2"
   ],
   "cell_type": "code",
   "metadata": {},
   "execution_count": 15,
   "outputs": []
  },
  {
   "cell_type": "code",
   "execution_count": 23,
   "metadata": {},
   "outputs": [
    {
     "output_type": "stream",
     "name": "stdout",
     "text": [
      "{'refresh_token': '25.92860d0365483e74b359cc89570f523b.315360000.1918094203.282335-22823469', 'expires_in': 2592000, 'session_key': '9mzdWBaMgoolf731K1H0QI5TMyZe+5CRZJW7vPOZXJnYJFBB1KBeUKn8es4Zj4TxmN6IvJDI3tKBdMC+mOm8yxgvTwL0+Q==', 'access_token': '24.cfde0c4ae3e7c4f35df33f7a029507c0.2592000.1605326203.282335-22823469', 'scope': 'public vis-ocr_ocr brain_ocr_scope brain_ocr_general brain_ocr_general_basic vis-ocr_business_license brain_ocr_webimage brain_all_scope brain_ocr_idcard brain_ocr_driving_license brain_ocr_vehicle_license vis-ocr_plate_number brain_solution brain_ocr_plate_number brain_ocr_accurate brain_ocr_accurate_basic brain_ocr_receipt brain_ocr_business_license brain_solution_iocr brain_qrcode brain_ocr_handwriting brain_ocr_passport brain_ocr_vat_invoice brain_numbers brain_ocr_business_card brain_ocr_train_ticket brain_ocr_taxi_receipt vis-ocr_household_register vis-ocr_vis-classify_birth_certificate vis-ocr_台湾通行证 vis-ocr_港澳通行证 vis-ocr_机动车购车发票识别 vis-ocr_机动车检验合格证识别 vis-ocr_车辆vin码识别 vis-ocr_定额发票识别 vis-ocr_保单识别 vis-ocr_机打发票识别 vis-ocr_行程单识别 brain_ocr_vin brain_ocr_quota_invoice brain_ocr_birth_certificate brain_ocr_household_register brain_ocr_HK_Macau_pass brain_ocr_taiwan_pass brain_ocr_vehicle_invoice brain_ocr_vehicle_certificate brain_ocr_air_ticket brain_ocr_invoice brain_ocr_insurance_doc brain_formula brain_ocr_meter brain_doc_analysis brain_ocr_webimage_loc wise_adapt lebo_resource_base lightservice_public hetu_basic lightcms_map_poi kaidian_kaidian ApsMisTest_Test权限 vis-classify_flower lpq_开放 cop_helloScope ApsMis_fangdi_permission smartapp_snsapi_base smartapp_mapp_dev_manage iop_autocar oauth_tp_app smartapp_smart_game_openapi oauth_sessionkey smartapp_swanid_verify smartapp_opensource_openapi smartapp_opensource_recapi fake_face_detect_开放Scope vis-ocr_虚拟人物助理 idl-video_虚拟人物助理 smartapp_component', 'session_secret': 'a3b92eeb7068609ccb47de368f0df63c'}\n"
     ]
    }
   ],
   "source": [
    "def get_access_token(client_id,client_secret):\n",
    "    base_url='https://aip.baidubce.com/oauth/2.0/token?grant_type=client_credentials&client_id={}&client_secret={}'\n",
    "    token_resp = rq.get(base_url.format(client_id,client_secret))\n",
    "    resp_data = token_resp.json()\n",
    "    print(resp_data)\n",
    "    if 'error' not in resp_data:\n",
    "        return resp_data['access_token']\n",
    "\n",
    "token = get_access_token('IY0jcA953HSa3yBYOoRGMKGX','M2sOdCIWTDZDapNDBiWoUCdkTfMst9Tj')"
   ]
  },
  {
   "cell_type": "code",
   "execution_count": 13,
   "metadata": {},
   "outputs": [],
   "source": [
    "def ocr(img_b64,access_token):\n",
    "    base_url='https://aip.baidubce.com/rest/2.0/ocr/v1/general_basic?access_token={}'\n",
    "    headers = {'content-type': 'application/x-www-form-urlencoded'}\n",
    "    params = {'image': img_b64}\n",
    "    resp = rq.post(base_url.format(access_token),data = params,headers=headers)\n",
    "    resp_json  = resp.json()\n",
    "    if 'words_result' in resp_json:\n",
    "        return resp_json['words_result'][0]['words']\n",
    "\n",
    "# ocr(None,token)"
   ]
  },
  {
   "cell_type": "code",
   "execution_count": 14,
   "metadata": {},
   "outputs": [
    {
     "output_type": "execute_result",
     "data": {
      "text/plain": [
       "'11527'"
      ]
     },
     "metadata": {},
     "execution_count": 14
    }
   ],
   "source": [
    "with open('./GetValidateCode.jpg','rb') as f:\n",
    "    b64 = base64.b64encode(f.read())\n",
    "ocr(b64, token)"
   ]
  },
  {
   "cell_type": "code",
   "execution_count": 22,
   "metadata": {},
   "outputs": [
    {
     "output_type": "execute_result",
     "data": {
      "text/plain": [
       "b'/9j/4AAQSkZJRgABAQEAYABgAAD/2wBDAAgGBgcGBQgHBwcJCQgKDBQNDAsLDBkSEw8UHRofHh0aHBwgJC4nICIsIxwcKDcpLDAxNDQ0Hyc5PTgyPC4zNDL/2wBDAQkJCQwLDBgNDRgyIRwhMjIyMjIyMjIyMjIyMjIyMjIyMjIyMjIyMjIyMjIyMjIyMjIyMjIyMjIyMjIyMjIyMjL/wAARCABSANoDASIAAhEBAxEB/8QAHwAAAQUBAQEBAQEAAAAAAAAAAAECAwQFBgcICQoL/8QAtRAAAgEDAwIEAwUFBAQAAAF9AQIDAAQRBRIhMUEGE1FhByJxFDKBkaEII0KxwRVS0fAkM2JyggkKFhcYGRolJicoKSo0NTY3ODk6Q0RFRkdISUpTVFVWV1hZWmNkZWZnaGlqc3R1dnd4eXqDhIWGh4iJipKTlJWWl5iZmqKjpKWmp6ipqrKztLW2t7i5usLDxMXGx8jJytLT1NXW19jZ2uHi4+Tl5ufo6erx8vP09fb3+Pn6/8QAHwEAAwEBAQEBAQEBAQAAAAAAAAECAwQFBgcICQoL/8QAtREAAgECBAQDBAcFBAQAAQJ3AAECAxEEBSExBhJBUQdhcRMiMoEIFEKRobHBCSMzUvAVYnLRChYkNOEl8RcYGRomJygpKjU2Nzg5OkNERUZHSElKU1RVVldYWVpjZGVmZ2hpanN0dXZ3eHl6goOEhYaHiImKkpOUlZaXmJmaoqOkpaanqKmqsrO0tba3uLm6wsPExcbHyMnK0tPU1dbX2Nna4uPk5ebn6Onq8vP09fb3+Pn6/9oADAMBAAIRAxEAPwD3v7PB/wA8Y/8AvkUfZ4P+eMf/AHyKkooAj+zwf88Y/wDvkUfZ4P8AnjH/AN8ipKZH5nzeZt+8du307Z96AE+zwf8APGP/AL5FH2eD/njH/wB8ipKKAIWtYGxmJODngYp32eD/AJ4x/wDfIp7qHRkYZVhgj2oRQiKijCqMAe1ADPs8H/PGP/vkUyRLaLbvjjG5go+TqTU9FAEf2eD/AJ4x/wDfIo+zwf8APGP/AL5FPV1dQyMGU9CDkUtAEf2eD/njH/3yKPs8H/PGP/vkVJRQBH9ng/54x/8AfIo+zwf88Y/++RUlM8pPO83Hz7duc9utAEccMbbt9tGmGIHAOR60/wCzwf8APGP/AL5FSUUAQeTH5237NHs2534HX0xT/s8H/PGP/vkVJRQBEYLdQSYowBySVHFAgt2AIijIPIIUc1IQGBBAIPBB70ABQAAABwAO1AEK26+Y+6GHZxswvPvmn/Z4P+eMf/fIpZZUhjMkhwo6nFPoAj+zwf8APGP/AL5FH2eD/njH/wB8ipKKAIYUVZZdqhcELhRjtn+tTVBbRJD5scYwofgZz2FT0AFFNRw6K46MARms3xDr1p4b0iXULzcUX5URQSXc9F9s46mpnOMIuUthNpK7Od8Z/EE+EdSgtP7L+1+bF5m7zzHjkjGNhz09a3/DXiC38TaJDqVuvl78rJEXDGNh1Bx+Y6cEHFfPGv61d+JtbuNRmQ73yVjUZ2IOgyAM4Heuw+EevSWevPo7l2gvVLIByEkUZz1wAQDngnha4MNipTquMtnseTDHt4i1/ceh7dRRRXonrhRRRQAUV5lr3x18KaBr13pE1tqdzNayeVJJbRRtHuHUAlweDweOoNemKdygjoRmharmWwPR2YKipnaoGTk4HU+tV53ubawnkiVbmdEZo0YlN5AyFJAP0yAfpVmik9gW54FJ+0u8UjRyeDmR0JVlbUcEEdQR5VM/4aa/6lH/AMqX/wBqry/4n6NFoPxH1myhZDEZvOVVx8gcB9vAAGN3QdPU17LpP7P3g/U9Hsr/AO3a/GLmBJtjzQgruUHBAjOOvqaIXlDmHK0Zcp3Pw6+Idn8QdInu4rb7HdW8mya1MwkKg8qwOASD6kDkEc4rsq4XwV8K9G8B6nNfaVqOrSGaLy5IbidDG3OQSqouSOcHtk+td1Vyt0JV+oUUVXvb+1021e6vbiOCBOrucD6e59qkbaSuyVZN0jpsYbcfMRwc+lPriLj4qeH4Z2jjjvp1XpJHEoVvpuYH8xWxofjPRdfdYrW4MdywJFvOu1+PTsemeCeKv2c0r2OaOMoSlyxmrm8TtBJzgegzVW9u5YdLmu7KAXUiRl0i3FfMx2BAJz+HWrMisyEI5Rj0YDOKUZ2jcQTjnArOSbVkdcWlJNq55OfjWVJB8PEEcEG8/wDtdH/C7P8AqXv/ACd/+11u33wl8P319PdGe+hMzlzHC8aouT0UbOBUH/Cm/D3/AD+ap/39j/8AiK8/lxnf8v8AI+ujW4caTdN3/wC3v8zLi+NcbTIJdBZIywDst3uIHcgFBk+2RXqkE0dzBHPC6yRSKGR1IIYHoQR1r5n8TafY6d4jutP0qSWeCFxGru4cu3foo78Yx26mvoTwvYS6Z4X06znaQyxwKH8w5ZT129T06YzjitMHWqVOZT1sY8QZdgsPQpVsNHl5umuqte+rdrfqabfJMH7ONp9j2/mf0qSmuodCp79x2qodRjQlHVt68NtHGfbmu0+VLK/u5dn8LZK/XuP6/nVXVtNi1iwl0+5UNaTqVlwxDexBHvVqfiEv3T5h+H+cfjUlKUVJNPYDlfDHgHSfDUEm0fa7qXIa4lUBgpyML/dGDzg8/kB4/wCLdEm8GeLgbPckKutxZyMN2MHOMkYJB+vbNfRVeefF/TI7nwxFf/KstrMADsyzBuMZ7Dv+FcWLpKNNTho4nBisLD2DUFbl1/zOp8Ka/H4k8PW2oKV81l2zouPkkHUYycDuM84Irarxz4M6nImpX+lne0UkQnXL8IVIBwvqdw5/2RXsRAYEEAg8EHvXXSn7SCn3NcHWdWipPfYWuZ8b+ONL8C6Kb/UGLTSBltbcZzO4GduQDtHueB+ldJGixIEQEKvABOa434m+Bm8eeGF0+CW3gvIpllimmj3YHRhkcjI9PQU5XtodcbX1Pj/U9Qm1XVLvULhmaW5laVi7FjknPU9a+mPgP45bxB4cfQb6WM32lqqw4CqXt8YXjOSVIwTgcFc5JJqa3+Cnh7QvBOr2cbtc6jdWbI9/cxhtpADfJHnCjcoI5Lf7Rrwn4U63NofxK0WaLzGS4nFpJGshQOsnyc+oBIbB6lR061pStf2S7f8ADEzvbnZ9mUUxIkjZ2UYLnLc8Z9cU+pGfP37RvhgBtO8TwJIWb/Rbk7mYAdUOMYUfeHUZJHHU15Domh+JvHF1HpumRXOpSWcH7uN5wFhjB6AuwVRk9K+2L2e0trOWe+lhitY13SyTsFRVHdieAPrXH+HPF/w9XXG8PeGrnTY72Z2JisLUpHKyrkneqhG4B5yaUFZtfMcnpc8Dt9d+JvwkligvEuobLgJb3g8+1bgkKrAkL1JIRgfWvffh58StK8faefJ/0bU4VH2izdhu6DLpzlkycZ6jv1Gek17Q7HxFo11pt/bwyxTxsgMsYfYSMBhnuDyD7V8deGtWuPBnxBguLKZ5xa3hhby2Mf2iPdgg4zwcZxzVQfNLkl1JkuWPMuh9r1xPxNi+0+GH8suXt5UkZQWA2njOMYI5/D17HtgcgUUJ2aZFWmqlOUO6seAeD9Bt/EWurY3Vw8MXls52FQzY7DP59D0/Gum8TfDL+z7JrzR55p1iXMkEvzOfddoGfpjt17V6bBpOm210bqDT7SK4OcyxwqrnPXkDPNJq+pWmlaXPd3sipCinO4Z3E9AB3z6VtOvJtOJ5lHKqUKTjV1ffsjz7wD46uLi6j0fVphIXAW2nbAOQPusc85wMHrn1zXp1fOWkRz3fiG0W1RjM9wpRYz5ZHOeCPu4/Svo2niIpNNdQyivOpCUJO/LswopkjOu3Ym/LAHnGB60+uc9c+aPEyC08a6mOQEvXb5xv/izyGA3fjwfU9a+lYmDRIwwQVB46V82+MWE3jfVvKYSZu2UeWu3JzjGBnnPGe/XvX0hArLbxK4IYIAQW3HOPXv8AWvPy/wCGXqfYcT64bCt72f5RJKKKqve7HZfs1ycHGRHwa9A+PJrj/j2l/wBw/wAqkqOX5isf945P0HX+g/GpKACuK+Kv/IiXP/XWL/0Ku1rP1jRNP160FpqULzQBt3liV0BPvtIz+NZV4OpTcV1IqRcoSiuqa+9Hj3wc/wCRuuf+vNv/AENK9tmlMa/IoeQ/dQsAW9aytF8J6H4emkm0uwWCWRdrOXZzj0BYnA+nt6Vrsq5DsoJXODjJH0ooQdOmoPp/mc+DoSoU+WW9x1FRW4xboP3nr+9OW/Gpa1Osqap/yCL3/rg//oJr4q8Df8j/AOHf+wnb/wDoxa+ofjF4oXwz8P7zZJIl3fA2tuY3ZGDMOWDAcYGT2z614l8BvC7a547XU5Y42s9JXzn3orgyMCIxgnIIOWDAHBTtkGnR/i83a34ahU/h2Pqf7Oh++WfEnmDc33T7e1S0UUgKmq6dBq+k3mm3IzBdQvDIP9lgQf518ZappmvfDPxsqvugvrKXzbafb8sqZOHX1UjII+oPOa+2Kytf8NaN4p042GtafFeW+QwV8hlPqrAgqfcEccUrNS5kPRx5WeAap+0dq95oL2lnosFlqMkYRrwTl1U4wWSMrwe4yxx71i/BnwDeeJvFNtrV1C66Rp8wmaVxxNKpyqD15wT7DHcV7vY/CDwDp12tzB4bt3kUEAXEsk6cjHKSMVP4iuyt7aCzto7a2hjggiUJHFEoVUUdAAOAKqLUXzdSZXa5ehLSOodGRhlWGCPalrP1rWbTQdMkvrx8IvCqOrt2UfWkDairvYTUdTt9C0+a7vXSO0iUCMLksxx933PpXiut65qvjXWY4o4nYFittax87fc+px1P8hVTxF4kvfEeovcXDukOf3VvvJWMe3v6nHNbfhvxtYeG7NI4PD6SXWCJLprgB3z1GdnA4HGe3rzXXTpOC5mrs+cxWPjiZ+y5uWHfXX+v+HO88F+CYvDkX2q6KzajIuCw+7EP7q+/qf8AJ6+uA0T4lS63rFtp0OibWmfBb7WDtXqTgqM4GTiu/rGqp3vM9jBSw7p8uH2Xrv8AMKheV4YJpZdmEDMNv90DPOe9Pkk8tQdjMScAKMmmXVtFe2sltNv8qRdrbJGQ4+qkEfgaxleztudsbXXNsfOPhaJ9W8cab5py0t4sshPfDbj/ACNfSlc/pXgjw5ot8t7YaYsVygIV2kd9ufQMSAffrXQVz4Wi6MOVnt57mlLMKsJUU1GKtrb9G/IKKKK6TwyOL5sy/wB/p/u9v8fxqSgAAAAYA6AUUAFFFFABRRRQAUUyVnSMtGm9h0XOM/jT6AOH8bfC3SPHt/b3erahqcf2eMpFFbPEqLk5J5jJJPHU9q2PB3g3S/A+iHStJ89omlaaSSd9zu5wMnAAHAA4A6euTXQUULRWQPXcKKKKACimSK7KAj7Dnk4yce1PoAKKKR2CIzscKoyT7UALXO+IfB1l4muIpb68vVWIEJHEyBVz1PKk5OB3roUYOiupyrDIPtS002ndEVKcakeWaujhP+FT6F/z96l/38T/AOIo/wCFT6F/z96l/wB/E/8AiK7uir9rPuc31DDfyI5rQfA+keHrl7i2NzLMwADTSA7QDngKAPTrnpXS0UVEpOTuzop0oUo8sFZBRTGWQuCsgVQD8u3OT6mljVlQB3LsOrEYzSNB1FFFADJIkl27xnawYc9CKia9t0Yq0mCDg/KafNJIjxqke7eSCxP3fw79/wAqBbQgDMase5ZQSfrQBi/aJ/8AntJ/30aPtE//AD2k/wC+jRRQAfaJ/wDntJ/30aPtE/8Az2k/76NFFAB9on/57Sf99Gj7RP8A89pP++jRRQAfaJ/+e0n/AH0aPtE//PaT/vo0UUAH2if/AJ7Sf99Gj7RP/wA9pP8Avo0UUAH2if8A57Sf99Gj7RP/AM9pP++jRRQAfaJ/+e0n/fRo+0T/APPaT/vo0UUAH2if/ntJ/wB9Gj7RP/z2k/76NFFAB9on/wCe0n/fRo+0T/8APaT/AL6NFFAB9on/AOe0n/fRo+0T/wDPaT/vo0UUAH2if/ntJ/30aPtE/wDz2k/76NFFAB9on/57Sf8AfRo+0T/89pP++jRRQAfaJ/8AntJ/30aPtE//AD2k/wC+jRRQBb06R5Lk73ZsIcZOe4rUoooA/9k='"
      ]
     },
     "metadata": {},
     "execution_count": 22
    }
   ],
   "source": [
    "a = cv2.imread('./GetValidateCode.jpg')\n",
    "b = cv2.imencode('.jpg',a)[1].tostring()\n",
    "# base64.b64encode(b)\n",
    "b64"
   ]
  },
  {
   "cell_type": "code",
   "execution_count": null,
   "metadata": {},
   "outputs": [],
   "source": []
  }
 ],
 "metadata": {
  "kernelspec": {
   "display_name": "Python 3",
   "language": "python",
   "name": "python3"
  },
  "language_info": {
   "codemirror_mode": {
    "name": "ipython",
    "version": 3
   },
   "file_extension": ".py",
   "mimetype": "text/x-python",
   "name": "python",
   "nbconvert_exporter": "python",
   "pygments_lexer": "ipython3",
   "version": "3.8.3-final"
  }
 },
 "nbformat": 4,
 "nbformat_minor": 2
}