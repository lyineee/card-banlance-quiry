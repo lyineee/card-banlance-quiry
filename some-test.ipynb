{
 "cells": [
  {
   "cell_type": "markdown",
   "metadata": {},
   "source": [
    "# Test Cookie"
   ]
  },
  {
   "cell_type": "code",
   "execution_count": 1,
   "metadata": {},
   "outputs": [],
   "source": [
    "import requests as rq\n",
    "import tensorflow.keras.models\n",
    "import json\n",
    "import numpy as np\n",
    "import cv2\n",
    "import os"
   ]
  },
  {
   "cell_type": "markdown",
   "metadata": {},
   "source": [
    "## get asp.net_sessionid"
   ]
  },
  {
   "cell_type": "code",
   "execution_count": 2,
   "metadata": {},
   "outputs": [],
   "source": [
    "resp=rq.get('http://ecardfw.upc.edu.cn:20086/')"
   ]
  },
  {
   "cell_type": "code",
   "execution_count": 3,
   "metadata": {},
   "outputs": [],
   "source": [
    "cookies={'ASP.NET_SessionId':resp.cookies['ASP.NET_SessionId']}"
   ]
  },
  {
   "cell_type": "code",
   "execution_count": 4,
   "metadata": {},
   "outputs": [],
   "source": [
    "import time\n",
    "validate_code_time=str(time.time()).replace('.','')\n",
    "validate_code_url='http://ecardfw.upc.edu.cn:20086/Login/GetValidateCode?time='.format(validate_code_time)\n",
    "validate_code_resp=rq.get(validate_code_url,cookies=cookies)"
   ]
  },
  {
   "cell_type": "code",
   "execution_count": 5,
   "metadata": {},
   "outputs": [],
   "source": [
    "with open('./validate_code_tmp.jpg','wb') as f:\n",
    "    f.write(validate_code_resp.content)\n",
    "    f.flush()\n",
    "    validate_img=cv2.imread(f.name)\n",
    "os.remove('./validate_code_tmp.jpg')"
   ]
  },
  {
   "cell_type": "markdown",
   "metadata": {},
   "source": [
    "### all"
   ]
  },
  {
   "cell_type": "code",
   "execution_count": 34,
   "metadata": {},
   "outputs": [],
   "source": [
    "resp=rq.get('http://ecardfw.upc.edu.cn:20086/')\n",
    "cookies={'ASP.NET_SessionId':resp.cookies['ASP.NET_SessionId']}\n",
    "import time\n",
    "validate_code_time=str(time.time()).replace('.','')\n",
    "validate_code_url='http://ecardfw.upc.edu.cn:20086/Login/GetValidateCode?time='.format(validate_code_time)\n",
    "validate_code_resp=rq.get(validate_code_url,cookies=cookies)\n",
    "with open('./validate_code_tmp.jpg','wb') as f:\n",
    "    f.write(validate_code_resp.content)\n",
    "    f.flush()\n",
    "    validate_img=cv2.imread(f.name)\n",
    "os.remove('./validate_code_tmp.jpg')"
   ]
  },
  {
   "cell_type": "markdown",
   "metadata": {},
   "source": [
    "## calculate the calidate code"
   ]
  },
  {
   "cell_type": "code",
   "execution_count": 35,
   "metadata": {},
   "outputs": [],
   "source": [
    "headers={\n",
    "    'Host': 'ecardfw.upc.edu.cn:20086',\n",
    "    'Proxy-Connection': 'keep-alive',\n",
    "    'Content-Length': '72',\n",
    "    'Accept': 'application/json, text/javascript, */*; q=0.01',\n",
    "    'X-Requested-With': 'XMLHttpRequest',\n",
    "    'User-Agent': 'Mozilla/5.0 (Windows NT 10.0; Win64; x64) AppleWebKit/537.36 (KHTML, like Gecko) Chrome/79.0.3945.130 Safari/537.36',\n",
    "    'Content-Type': 'application/x-www-form-urlencoded; charset=UTF-8',\n",
    "    'Origin': 'http://ecardfw.upc.edu.cn:20086',\n",
    "    'Referer': 'http://ecardfw.upc.edu.cn:20086/',\n",
    "    'Accept-Encoding': 'gzip, deflate',\n",
    "    'Accept-Language': 'zh-CN,zh;q=0.9,zh-TW;q=0.8,en-US;q=0.7,en;q=0.6,fi;q=0.5',\n",
    "}"
   ]
  },
  {
   "cell_type": "code",
   "execution_count": 6,
   "metadata": {},
   "outputs": [],
   "source": [
    "models=tensorflow.keras.models.load_model('./result.h5')"
   ]
  },
  {
   "cell_type": "code",
   "execution_count": 36,
   "metadata": {},
   "outputs": [
    {
     "name": "stdout",
     "output_type": "stream",
     "text": [
      "18682\n"
     ]
    }
   ],
   "source": [
    "def decode(y):\n",
    "    y = np.argmax(np.array(y), axis=2)[:,0]\n",
    "    return ''.join([str(x) for x in y])\n",
    "input_width=109\n",
    "input_height=41\n",
    "validate_img=cv2.resize(validate_img,(input_width,input_height)).reshape((1,input_height,input_width,3))\n",
    "pre=models.predict(validate_img/255)\n",
    "validate_code=decode(pre)\n",
    "print(validate_code)"
   ]
  },
  {
   "cell_type": "code",
   "execution_count": 37,
   "metadata": {},
   "outputs": [],
   "source": [
    "post_data={'sno':'1805010118','pwd':'MDUxNTEw','ValiCode':validate_code,'remember':'1','uclass':'1','json':'true'}\n",
    "login_resp=rq.post('http://ecardfw.upc.edu.cn:20086/Login/LoginBySnoQuery',data=post_data,cookies=cookies,headers=headers)"
   ]
  },
  {
   "cell_type": "code",
   "execution_count": 58,
   "metadata": {},
   "outputs": [
    {
     "data": {
      "text/plain": [
       "'MDUxNTEw'"
      ]
     },
     "execution_count": 58,
     "metadata": {},
     "output_type": "execute_result"
    }
   ],
   "source": [
    "import base64\n",
    "s='051510'\n",
    "base64.b64encode(s.encode('utf-8')).decode('ascii')"
   ]
  },
  {
   "cell_type": "code",
   "execution_count": 76,
   "metadata": {},
   "outputs": [
    {
     "data": {
      "text/plain": [
       "False"
      ]
     },
     "execution_count": 76,
     "metadata": {},
     "output_type": "execute_result"
    }
   ],
   "source": [
    "a=login_resp.content\n",
    "a=json.loads(a)\n",
    "a['IsSucceed'] == '1'"
   ]
  },
  {
   "cell_type": "code",
   "execution_count": 86,
   "metadata": {},
   "outputs": [
    {
     "data": {
      "text/plain": [
       "'captcha_error'"
      ]
     },
     "execution_count": 86,
     "metadata": {},
     "output_type": "execute_result"
    }
   ],
   "source": [
    "a=Exception('login failed','captcha_error')\n",
    "a.args[1]"
   ]
  }
 ],
 "metadata": {
  "kernelspec": {
   "display_name": "Python 3",
   "language": "python",
   "name": "python3"
  },
  "language_info": {
   "codemirror_mode": {
    "name": "ipython",
    "version": 3
   },
   "file_extension": ".py",
   "mimetype": "text/x-python",
   "name": "python",
   "nbconvert_exporter": "python",
   "pygments_lexer": "ipython3",
   "version": "3.6.7"
  }
 },
 "nbformat": 4,
 "nbformat_minor": 2
}
